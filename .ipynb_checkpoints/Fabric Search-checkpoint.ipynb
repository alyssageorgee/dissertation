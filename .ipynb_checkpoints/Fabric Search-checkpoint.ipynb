{
 "cells": [
  {
   "cell_type": "markdown",
   "id": "717e29e7",
   "metadata": {},
   "source": [
    "## Site #1"
   ]
  },
  {
   "cell_type": "code",
   "execution_count": 57,
   "id": "c8aa3f6f",
   "metadata": {},
   "outputs": [],
   "source": [
    "import requests as re\n",
    "from bs4 import BeautifulSoup\n",
    "import pandas as pd"
   ]
  },
  {
   "cell_type": "code",
   "execution_count": 58,
   "id": "c2f7221f",
   "metadata": {},
   "outputs": [],
   "source": [
    "url = \"https://www.thespruce.com/fabric-glossary-clothes-you-wear-2145791\""
   ]
  },
  {
   "cell_type": "code",
   "execution_count": 59,
   "id": "f6c8731a",
   "metadata": {},
   "outputs": [],
   "source": [
    "request = re.get(url)"
   ]
  },
  {
   "cell_type": "code",
   "execution_count": 60,
   "id": "7423951a",
   "metadata": {},
   "outputs": [],
   "source": [
    "html = BeautifulSoup(request.text, 'html.parser')"
   ]
  },
  {
   "cell_type": "code",
   "execution_count": 61,
   "id": "aa692240",
   "metadata": {},
   "outputs": [],
   "source": [
    "fabrics = html.find_all('ul', class_=\"comp text-passage u-how-to-title-align mntl-sc-block lifestyle-sc-block-html mntl-sc-block-html\")"
   ]
  },
  {
   "cell_type": "code",
   "execution_count": 62,
   "id": "1d46ede6",
   "metadata": {},
   "outputs": [],
   "source": [
    "dict = {}\n",
    "for fabric in fabrics:\n",
    "    title = fabric.text.strip().lower()\n",
    "    description = fabric.find_next_sibling('p', class_=\"comp text-passage u-how-to-title-align mntl-sc-block lifestyle-sc-block-html mntl-sc-block-html\").text.strip()\n",
    "    if title in dict:\n",
    "        dict[title].append(description)\n",
    "    else:\n",
    "        dict[title] = [description]"
   ]
  },
  {
   "cell_type": "markdown",
   "id": "70a45b72",
   "metadata": {},
   "source": [
    "## Site #2"
   ]
  },
  {
   "cell_type": "code",
   "execution_count": 63,
   "id": "e53a5bef",
   "metadata": {},
   "outputs": [],
   "source": [
    "url = \"https://www.contrado.co.uk/blog/a-to-z-of-fabrics/\"\n",
    "request = re.get(url)"
   ]
  },
  {
   "cell_type": "code",
   "execution_count": 64,
   "id": "c78a7c5a",
   "metadata": {},
   "outputs": [],
   "source": [
    "html = BeautifulSoup(request.text, 'html.parser')"
   ]
  },
  {
   "cell_type": "code",
   "execution_count": 65,
   "id": "5169af13",
   "metadata": {},
   "outputs": [],
   "source": [
    "content = html.find('div', class_='entry-content')"
   ]
  },
  {
   "cell_type": "code",
   "execution_count": 66,
   "id": "b6daa70c",
   "metadata": {},
   "outputs": [],
   "source": [
    "fabrics = content.find_all('h2')\n",
    "for fabric in fabrics:\n",
    "    title = fabric.text.strip().lower()\n",
    "    description = fabric.find_next_sibling('p').text.strip()\n",
    "    if title in dict:\n",
    "        dict[title].append(description)\n",
    "    else:\n",
    "        dict[title] = [description]"
   ]
  },
  {
   "cell_type": "markdown",
   "id": "5fa5e21e",
   "metadata": {},
   "source": [
    "## Site #3"
   ]
  },
  {
   "cell_type": "code",
   "execution_count": 71,
   "id": "5793edf3",
   "metadata": {},
   "outputs": [],
   "source": [
    "url = \"https://startupfashion.com/fabric-dictionary/\"\n",
    "request = re.get(url)\n",
    "html = BeautifulSoup(request.text, 'html.parser')"
   ]
  },
  {
   "cell_type": "code",
   "execution_count": 73,
   "id": "c4ef0439",
   "metadata": {},
   "outputs": [],
   "source": [
    "content = html.find('div', class_=\"page-container\")"
   ]
  },
  {
   "cell_type": "code",
   "execution_count": 74,
   "id": "1e62e24a",
   "metadata": {},
   "outputs": [],
   "source": [
    "ps = content.find_all('p')"
   ]
  },
  {
   "cell_type": "code",
   "execution_count": 100,
   "id": "edd19c83",
   "metadata": {},
   "outputs": [],
   "source": [
    "import re as regex\n",
    "for p in ps:\n",
    "    text = p.decode_contents()\n",
    "    res = regex.search(\"<strong>(.+)<\\/strong> – (.+)\", text)\n",
    "    if res:\n",
    "        info = p.text.strip().split(' – ')\n",
    "        title = info[0].lower()\n",
    "        description = info[1]\n",
    "        if title in dict:\n",
    "            dict[title].append(description)\n",
    "        else:\n",
    "            dict[title] = [description]"
   ]
  },
  {
   "cell_type": "code",
   "execution_count": 101,
   "id": "5028a378",
   "metadata": {},
   "outputs": [
    {
     "data": {
      "text/plain": [
       "{'acetate': ['A manufactured fiber refined from cotton filaments or wood pulp and acetic acid that has been extruded through a spinneret and then hardened.'],\n",
       " 'antron': ['A type of nylon made by DuPont.'],\n",
       " 'bamboo': ['Bamboo fabric is made from the pulp of bamboo grass. It is light and strong and has excellent wicking properties. Bamboo fabric has insulating properties to keep the wearer cooler in summer and warmer in winter.'],\n",
       " 'bisso': ['Crisp, fine linen that\\xa0is sometimes called altar cloth and used for that purpose.'],\n",
       " 'blend': ['A term applied to a yarn or a fabric that is made up of more than one fiber. In blended yarns, two or more different types of staple fibers are twisted or spun together to form the yarn. Polyester/cotton is an example of a typical blended yarn or fabric.'],\n",
       " 'boiled wool': ['Wool fabric\\xa0that is processed in hot water and felted to create a very dense final product used for coats, jackets, and slippers.'],\n",
       " 'boucle': ['This fabric can be knit or woven but is made with novelty yarn. The finished fabric has protruding loops or curls on the surface. Care must be used when cleaning to prevent snagging.'],\n",
       " 'carbon-infused': ['Carbon-infused fibers are created by burning bamboo blended with a synthetic fiber to create a durable, high-tech fabric that is anti-bacterial, anti-fungal, breathable, and moisture-wicking.'],\n",
       " 'charmeuse': ['Lightweight\\xa0silk or silk-like fabric.'],\n",
       " 'chenille': ['A soft fuzzy fabric developed in France where chenille translates to \"caterpillar.\" It can be made from cotton or a blended fiber.',\n",
       "  'Chenille is a soft fabric. Often bulky and is made of chenille yarn. This yarn characteristically has small tufts of yarn around the central core, giving it a look similar to a caterpillar.'],\n",
       " 'chiffon': ['An extremely sheer, lightweight, soft fabric made of silk, polyester, rayon, or other fibers. It is made of highly twisted filament yarns.',\n",
       "  'A sheer textile woven in a plain weave, Chiffon is lightweight and surprisingly strong considering its delicate nature. Chiffon frays easily, and is prone to seam slipping, but is incredibly soft.'],\n",
       " 'chino': ['This is a sturdy plain or twill weave cotton fabric. Most of these fabrics are dyed a khaki color but can be navy, black, or olive drab.'],\n",
       " 'chintz': ['Glazed cotton in a plain weave. Chintz features bright colors and prints, often florals.'],\n",
       " 'combed cotton': ['Fabric made with cotton fibers that are combed to remove short fibers and any debris. Combing results in a cleaner, more uniform, and lustrous yarn.'],\n",
       " 'coolmax': ['A polyester fiber designed to move moisture away from the body and out onto the surface of the garment for quick evaporation.'],\n",
       " 'corduroy': ['Usually made from cotton, corduroy is a durable pile fabric with lengthwise ridges cut into the pile called wales. Corduroy is also available as a cotton/polyester blend to help prevent wrinkles.'],\n",
       " 'cotton': ['A natural fiber that grows in the seedpod of the cotton plant. Fibers are typically 1/2 to 2-inches long. The longest staple fibers, longer than 1 1/2-inch, including the Pima and Egyptian varieties, produce the highest quality cotton fabrics.',\n",
       "  'Cotton is a general term. We use it for fabrics woven with cotton fibres or yarns. Blends and alternatives for cotton are becoming very commonplace. Cotton is used to make a variety of fabric types.'],\n",
       " 'cotton lisle': [\"A hard-spun two-ply cotton yarn made from long-staple fibers and treated to remove all short fuzzy ends for a smooth finish. Lisle is a popular choice for fine men's knitwear, including tops and socks.\"],\n",
       " 'damask': ['Damask refers to the type of weave used to create jacquard-woven florals or geometric designs. The fabric can be made from cotton, linen, polyester, or blended fibers.'],\n",
       " 'double knit': ['A knit fabric in which two layers of loops are formed that cannot be separated. A double knit machine, which has two complete sets of needles, is required for this construction.'],\n",
       " 'ecosil polyester': ['Ecosil means the polyester fibers are spun very compactly to give the fabric a clean appearance\\xa0and a resistance to pilling and abrasion.'],\n",
       " 'egyptian cotton': ['All cotton grown in Egypt is \"Egyptian,\" but not all of it is extra-long-staple cotton which is the most desirable and softest.'],\n",
       " 'elastane': ['Elastane is just another name for spandex. The word \"elastane\" is used in Europe while \"spandex\" is used in the United States. Elastane/spandex trade names are Lycra and Dorlastan.',\n",
       "  'This is a generalised term for fabrics that incorporate elastane fibres. A generic name for a man-made fibre which is almost rubber-like. Elastane has exceptional stretch and amazing recovery.'],\n",
       " 'eyelet': ['A type of fabric with patterned cut-out designs\\xa0around which stitching or embroidery is applied to prevent the fabric from raveling. It can be made from cotton or man-made fibers.'],\n",
       " 'faille': ['A glossy, soft, finely-ribbed silk-like woven fabric made from cotton, silk, or manufactured fibers.'],\n",
       " 'fiberfill': ['A lightweight, synthetic fiber that can be used to line coats, vests, and padded garments.'],\n",
       " 'french terry': ['A circular knit fabric with a looped pile back and smooth face. The fabric can be a natural fiber like cotton or bamboo or synthetic fiber.'],\n",
       " 'gaberdine': ['Sturdy fabric with a twill weave that can be made of cotton, wool, or synthetic fibers.'],\n",
       " 'hydrophilic fabric': ['Fabric that attracts water and is absorbent.'],\n",
       " 'hydrophobic fabric': ['Fabric that tends to repel water.'],\n",
       " 'interlock knit': ['A rib stitch variation, interlock stitch fabrics are thicker, heavier, and more stable than single knit constructions.'],\n",
       " 'italian nylon': ['A very high-quality knit fabric with 4-way stretch that comes from Italy. Italian nylon includes some Lycra to give great stretch and recovery and abrasion resistance.'],\n",
       " 'jacquard': ['Any fabric that has a pattern woven into the fabric rather than printed on the surface\\xa0is jacquard.\\xa0Brocade\\xa0and\\xa0damask\\xa0are types of jacquard woven fabrics. The fabric can be made with natural or synthetic fibers.'],\n",
       " 'jacquard knit': ['A double-knit fabric in which a Jacquard type of mechanism is used. This device individually controls needles or small groups of needles and allows very complex and highly patterned knits to be created.'],\n",
       " 'jersey': ['A generic term for a plain knit fabric without a distinct rib. Originally made of wool, jersey fabric was first manufactured on the island of Jersey. Today jersey can be knit from many different types of fibers.',\n",
       "  'Jersey is another generic term, applied to all types or weft-knitted fabric whether it has been knitted by hand or using machines. The name comes from the Channel Island where the fabric originated. Jersey fabrics were originally used to makes sweatshirts or jumpers for fishermen.'],\n",
       " 'knit': ['Knit fabrics are made the same way a\\xa0scarf is hand-knit at home. Knitting is a process that loops a piece of yarn in a row a few times, then links those loops with another row of loops, and so on. Knit fabrics are naturally stretchy because of the loops whether made from\\xa0natural or man-made fibers.'],\n",
       " 'lace': ['A net-like ornamental fabric made by looping, twisting, or knitting thread in patterns\\xa0by hand or machine. The fabric can be made from natural or synthetic fibers.',\n",
       "  'Lace is fine and delicate. It is an openwork or mesh fabric which is usually transparent or semi-transparent. We create it by looping, twisting or knotting fine yarns together typically giving an intricate or elaborate pattern.'],\n",
       " 'lamé': ['A woven fabric using flat silver or gold metal threads to create either the design or the background in the fabric.'],\n",
       " 'latex': ['Latex is made with rubber and thus has rubber-like qualities. It is used in some fabrics\\xa0to provide greater elasticity.'],\n",
       " 'linen': [\"A fabric made from fibers obtained from inside the woody stem of the flax plant. The fibers are much stronger and more lustrous than cotton. Linen fabrics are very cool and absorbent\\xa0but wrinkle very easily\\xa0unless blended with manufactured fibers. Linen is one of the world's oldest textile fibers.\",\n",
       "  'A blanket terms for fabrics which have been made using flax yarns or fibres. Linen fabric is a term which is also made from flax blended with other fibres, giving either a linen blend or linen look textile.'],\n",
       " 'lining': ['The name is given to material sewn into the inside of a garment to make it more opaque or more comfortable against the skin. Lining fabrics can be made of natural or man-made fibers.'],\n",
       " 'lycra': ['Lycra is the trademarked spandex fiber produced by DuPont. It is lightweight and soft, but stronger and more durable than rubber and is used in\\xa0compression garments,\\xa0swimwear,\\xa0and\\xa0bras.'],\n",
       " 'lyocell': ['Lyocell is a cellulose fabric obtained by an organic solvent spinning process. This fabric is a sub-category of rayon. Tencel is the trademark name for Lyocell.'],\n",
       " 'memory foam': ['Memory foam is often used to give shape to a garment. It is made of extruded\\xa0polyurethane\\xa0as well as additional chemicals.'],\n",
       " 'mercerized cotton': ['Cotton that has been through a wet finishing process, which swells the yarns of the fabric to give it a round smooth surface and stops the cotton from further shrinkage. This process results in a stronger and more lustrous yarn that is more easily dyed, producing brighter, deeper colors.'],\n",
       " 'merino wool': ['Merino wool comes from certain sheep that produce a\\xa0wool fiber that is long and fine. The result is a fabric that is thin, soft, and luxurious.'],\n",
       " 'mesh': ['An open-weave knitted or woven fabric that produces a net or sheer-like effect. Mesh can be made from many different types of fibers.',\n",
       "  'A very generalised term, mesh refers to a wide range of fabrics. These are woven, knitted or even lace. They are constructed to have an open mesh structure which is apparent in holes or spaces that are between the yarns which allows air to pass through the material.'],\n",
       " 'micro modal': ['Micro Modal is a trademarked microfiber from an Austrian textile company, Lenzing, made from spun beechwood cellulose. The fabric is delicate and light.'],\n",
       " 'microfiber': ['Fabric made with microfiber means that the fabric’s filaments are extremely fine and usually a blend of polyester or polyamide (nylon) fibers. Microfiber fabrics are lightweight, and look and feel luxurious.'],\n",
       " 'microfleece': ['Microfleece is an ultra-soft synthetic wool-like fabric.'],\n",
       " 'modal': ['Modal is made with cellulose from beech trees and is essentially a variety of rayon. Garments made from\\xa0modal have anti-crease properties and are relatively easy care.'],\n",
       " 'neoprene': ['A synthetic rubber fabric used for swimwear, outerwear, and high fashion clothing.',\n",
       "  'A synthetic rubber-like material. We know this well for its protective qualities as well as insulating properties. Neoprene tends to have good elasticity, is waterproof and buoyant and is resistant to many chemicals and oil.'],\n",
       " 'nylon': ['A completely synthetic fiber, nylon is known for its superior flexibility and excellent resilience.'],\n",
       " 'olefin': ['Olefin is a trademarked name for fabrics made with synthetic polypropylene and polyethylene fibers. It is often called Tyvek.'],\n",
       " 'panne': ['A\\xa0velvet-like\\xa0fabric that has been flattened to achieve the\\xa0desired design or look.'],\n",
       " 'peau de soie': ['A heavy twill-weave satin fabric, made of\\xa0silk fibers\\xa0or a manufactured fiber.'],\n",
       " 'peruvian pima cotton': ['Pima cotton is grown in Peru and harvested by hand, which reduces the scratchy impurities and guarantees a more brilliant white shade that can be easily dyed.'],\n",
       " 'pima cotton': ['Pima cotton is a generic name for extra-long-staple cotton grown in the U.S., Australia, and Peru. The name refers to the Pima Indians who grow cotton for the U.S. Department of Agriculture in Sacaton, Arizona.'],\n",
       " 'piqué': ['A medium-weight fabric, either knit or woven, with raised dobby designs including cords, wales, waffles, or patterns. Woven versions have cords running lengthwise, or in the warp direction. Knitted versions are double-knit fabric constructions, created on multi-feed circular knitting machines.'],\n",
       " 'polyamide': ['The basic fiber-forming substance for nylon fiber. It is also the European term for nylon.'],\n",
       " 'polyester': ['This is both the name of a fabric and a fiber. Polyester has high strength, excellent resiliency, and high abrasion resistance. Low absorbency allows the fiber to dry quickly.'],\n",
       " 'powernet': ['This is a two-way stretch nylon fabric used in high-end compression garments.'],\n",
       " 'rayon': ['A silk-like fabric made from wood pulp\\xa0or other vegetable matter. It is a weak but comfortable fabric against the skin and absorbs moisture.'],\n",
       " 'rib knit': ['A knitted fabric with alternating raised and lowered rows, it is more elastic and durable than plain knits.'],\n",
       " 'sanforized': ['Patented by Cluett, Peabody and Co., Inc, the label means the cotton fabric shrinkage is held to just one\\xa0percent.'],\n",
       " 'satin': ['A woven type of fabric with the characteristic of being highly lustrous on one side and matte on the other. Can be made in a variety of fibers.',\n",
       "  'Satin fabrics are ones that we weave using a satin weave. This weave is one of the four rudimentary woven fabric structures. An entirely warp-faced weave structure. The face and reverse of a satin weave fabric are completely opposite to one another.'],\n",
       " 'silicone': ['A rubber-like polymer, which maintains its elasticity over a wide range of temperatures. Often used inside the top of lingerie to make it cling to the skin.'],\n",
       " 'silk': ['A natural filament fiber produced by the silkworm in the construction of its cocoon. Most silk is collected from cultivated caterpillars and comes from Asia.',\n",
       "  'We use this as a generalised term for fabrics which are made using silk yarns. Known for their delicate nature and high-lustre attraction, silk fibres are the only natural fibres which are continuous filament fibres. Silk is an animal fibre, spun by silkworm larvae for use in the construction of their cocoons.'],\n",
       " 'soy': ['Soy fabric is made from the leftover dregs from soybean oil or tofu production making it eco-friendly. Similar to natural silk, it is common to\\xa0find occasional slubs which add\\xa0to its natural beauty. Its care is the same as\\xa0cotton fabric.'],\n",
       " 'spandex': ['A synthetic fiber made from polyurethane. It is lightweight, highly elastic, strong, durable, and non-absorbent to water and oils. In Europe, they call this Elastane.'],\n",
       " 'spannette': ['A natural rubber latex/nylon stretch fabric with thousands of air holes for comfort and breathability.'],\n",
       " 'supima cotton': ['The name \"Supima\" is a licensed trademark of a group of cotton growers. It is 100 percent American Pima cotton.'],\n",
       " 'supplex nylon': ['A cottony soft nylon that offers the performance benefits of a man-made fabric with the look of cotton.'],\n",
       " 'tactel': ['A silkier,\\xa0softer nylon with a crinkle finish. It is lightweight and quick drying.'],\n",
       " 'tencel': ['Tencel is the trademark name for\\xa0Lyocell.'],\n",
       " 'themastat': ['A\\xa0synthetic fiber\\xa0with a hollow core to keep you warmer and drier by wicking moisture away.'],\n",
       " 'tricot': ['This word comes from the French word \"tricoter\" which means to knit. Tricot is a finely knit fabric that stretches in both the lengthwise and crosswise directions. It can be made from nylon, wool, rayon, silk, cotton, or other fibers.'],\n",
       " 'velour': ['Soft plush fabric with a close, dense pile. It can be made from cotton or synthetic fiber.',\n",
       "  'A generalised term used for pile fabric. We also use the term velour for a napped woven fabric. This was the original velour fabric. The name comes from the Latin word ‘villous’ which means hairy.'],\n",
       " 'velvet': ['Velvet is a woven fabric made of silk, nylon, acetate, or rayon with a thick, soft pile of cut or uncut loops. A similar fabric, velveteen, is made the same way but from cotton.',\n",
       "  'Velvet is a woven fabric with a short, cut warp pile. We make the pile yarns from an extra set of warp yarns. We firmly bind these to the structure of the base fabric, otherwise known as a ground fabric. This forms a heavy and rich texture to the face of the velvet.'],\n",
       " 'viscose': ['The European term for rayon.'],\n",
       " 'vinyl': ['A shiny, plastic-coated fabric typically made with a woven backing of polyester fibers that are then coated with polyvinyl chloride (PVC) or a blend of PVC and polyurethane.'],\n",
       " 'wool': ['Wool is a natural fiber that comes from the fleece of a sheep, goat, llama, or alpaca. It can be knitted or woven.'],\n",
       " 'woven': ['Woven fabrics are made from two pieces of yarn that are stretched out over a loom and woven together in both horizontal and vertical directions. Woven fabrics do not stretch because their fibers run at 45-degree angles to one another. Woven fabrics include linen, denim, twill, satin, chiffon, corduroy, tweed, and canvas.'],\n",
       " 'x-static silver fiber (now known as ionic+)': ['X-Static or Ionic+ silver fiber has a layer of pure silver permanently bonded to the surface of a textile fiber. It can be used in knits, wovens, and non-wovens as either a filament or spun yarn. The addition of silver creates an anti-odor, anti-bacterial fiber.'],\n",
       " 'your a-z guide': ['Aida is woven. A material which we use for tapestries. We use this type of canvas, most commonly, as a base for needlework. It is usually a flexible, open-weave canvas.'],\n",
       " 'aida': ['Aida is woven. A material which we use for tapestries. We use this type of canvas, most commonly, as a base for needlework. It is usually a flexible, open-weave canvas.'],\n",
       " 'blackout': ['This is a loose term for a range of fabrics which block out light to varying degrees. Often used as window treatments, they’re opaque and most frequently have a stiff handle.'],\n",
       " 'canvas': ['These cotton-type fabrics are strong and durable. Canvas tends to feature a plain weave or a variation of a plain weave. Usually a heavyweight, firm textile. Canvas is closely woven.'],\n",
       " 'crepe': ['A fabric with a typically ‘crinkled’ surface. This effect is obtained using both knitted and woven fabrics. Crepe is typically springy and prone to fraying, especially when woven.'],\n",
       " 'denim': ['Denim is a strong woven fabric typically made with a warp-faced drill weave. Traditionally made from cotton, it has great washability but will often naturally fade over time.'],\n",
       " 'felt': ['Felt is neither woven or knitted but is rather a web of entangled fibres. Felting is one of the oldest and most inexpensive methods of making a fabric. It is made from any fibre, however, amongst the most popular is wool.'],\n",
       " 'fleece': ['Characteristically soft and warm with great insulating properties. We originally created fleece fabric as an imitation of animal fleeces. Amongst the most popular type of fleece is Polar Fleece which is a plush, napped fabric.'],\n",
       " 'georgette': ['Georgette is a fine, lightweight, woven fabric. It’s a crisp, grainy crepe fabric which tends to have a dull surface texture. It doesn’t crease easily, in fact, poly Georgette barely creases at all but it does fray easily. Georgette has a springy handle.'],\n",
       " 'herringbone': ['A generalised term for fabrics which we weave with a ‘herringbone’ texture. Herringbone is a reversed broken twill. Herringbone gets its name from the fact that visually the pattern looks like the backbone of a herring. We also sometimes call it feather or arrowhead twill.'],\n",
       " 'imitation': ['Imitation fabric is one which is imitates something else. Perhaps the most common of these would be faux leather. Other examples include silk, fur, suede and many other fabrics, the majority derived from animals or animal byproducts.'],\n",
       " 'knitted fabrics': ['Knitted fabrics are those where the yarn is formed using interconnecting loops. These textiles are separated into two generic groups: warp-knitted and weft-knitted fabrics. Warp-knitted fabrics tend to be created on a machine. Whereas weft-knitted fabrics are made either by hand, with needles or using a machine.'],\n",
       " 'lawn': ['A lightweight fabric which is opaque and woven in plain weave. Made with cotton or linen yarns it is both absorbent and hardwearing. Tightly woven in its construction, Lawn has great drape and washability but is prone to creasing.'],\n",
       " 'leather': ['The natural skin or hide of an animal. We often think of cows when we think of leather, yet is often made from a variety of other animals too. To make leather, we remove the hair and tan the skin (a process which preserves and softens). Characteristically tough and hardwearing, leather can be embossed, dyed or coated.'],\n",
       " 'microfibre': ['A general term we use for fabric which is made from microfibres. These are small, man-made fibres which have an extremely low density. Due to these fibres being so fine, the fabric which is produced is characteristically remarkably strong whilst being incredibly lightweight.'],\n",
       " 'muslin': ['A lightweight fabric which is soft and fine. Constructed in an open-sett plain weave, muslin is usually woven as grey cloth, and then later bleached or dyed. Muslin fabric rarely weighs more than around 70 gsm, and was originally made from cotton.'],\n",
       " 'non-woven fabric': ['We form non-woven fabric from the fibre, rather than weaving or knitting. As mentioned above, felt is a non woven fabric as are imitation suede fabrics and wadding. There are many ways that you can create a non-woven fabric, including needling, fluid jet entanglement, adhesive bonding, thermal bonding, chemical bonding, thermal bonding and stitch bonding.'],\n",
       " 'oilcloth': ['Traditionally a plain-woven cotton textile. We coat oilcloth on one side with a drying oil which makes it water-resistant. Oilcloth was one of the first waterproof fabrics. We used it widely before modern laminated alternatives became more commonplace.'],\n",
       " 'organza': ['A fine fabric which we weave in an open-sett plain weave with high-twist yarns. We make Organza either from silk or man-made fibres and it’s characteristically stiff and sheer with a pearl-like sheen.'],\n",
       " 'panama': ['We weave Panama fabrics in a hopsack weave structure. These fabrics tend to have different weights and qualities and can be anything from canvas to shirting fabric. We often use Panama canvas as embroidery fabric base.'],\n",
       " 'peach skin': ['We weave the majority of peach skin fabrics finely and give them a special treatment which produces a characteristically soft handle. Made from a variety of synthetic or natural fibres. We usually use either a plain-weave or twill-weave. We then use emery covered rollers 8to create a suede-like or peach-skin finish.'],\n",
       " 'poplin': ['Poplin is a very closely woven fabric. It has very fine warp-faced ribs which run in the direction of the weft, caused by the use of around twice as many warp-ends as weft-picks. Incredibly hardwearing, this fabric is prone to creasing and is also susceptible to seam puckering as it has a dense construction.'],\n",
       " 'power net': ['A classic control fabric, Powernet contains enough elastane to make it ideal for body-support clothing due to the high stretch and recovery. A warp-knitted, stretch net textile. We typically use Powernet in heavier weights for foundation wear and control garments, or in more lightweight sheer versions for lingerie.'],\n",
       " 'quilted fabric': ['This is a multi-part fabric. Composed of an outer layer or face fabric with a layer of wadding and sometimes a backing fabric too. We most commonly hold these two or three-layer textile with stitching. You can also fuse it together using either heat or chemicals.'],\n",
       " 'ripstop': ['Ripstop fabric is a textile which incorporates a reinforcement yarn. We call this a ripstop yarn and it is literally there to stop ripping. We weave these yarns into the material at regular intervals to increase the resistance of the fabric to stop tearing.'],\n",
       " 'scuba': ['Scuba is the fashion alternative of Neoprene. A double knit material, scuba is normally synthetic. We make it from a blend of poly and elastane fibres.'],\n",
       " 'taffeta': ['A crisp and lustrous fabric than os woven with warp-faced ribs running in the weft direction. Taffeta has a paper-like quality to it and drapes well in general, however, it is prone to creasing and fraying.'],\n",
       " 'twill': ['Twill fabrics are those woven in a twill weave construction. This weave characteristically produces diagonal lines on the face of the fabric. Using twill weave we can make a heavier fabric than we would with a plain weave. This makes a more hardwearing textile and we often use it for fabrics such as drill and denim.'],\n",
       " 'uv': ['UV fabrics protect against ultraviolet rays. We achieve this protection in a number of ways. We use UV absorbing dyes, UV absorbers or special finishes. Wool absorbs almost all UV rays, and cotton absorbs around 90%.'],\n",
       " 'voile': ['Voile is a lightweight fabric that is sheer and fine. Woven in a plain weave and made with high twist yarns of either natural or synthetic fibres, characteristically voile is a soft fabric with a crisp wiry handle.'],\n",
       " 'waterproof': ['Waterproof fabrics are those which are resistant to penetration by water. Fully resistant textiles would be called waterproof whereas those which are only partially resistant would be called wither-repellant, water-resistant or shower-proof. Waterproof fabrics can be made using fibres which are naturally waterproof, adding protective coatings or finishes, laminating the material or by using a very close weave.'],\n",
       " 'woven fabrics': ['The generic term we use for fabric constructed by interweaving two sets of yarns at 90° angles to each other. Characteristically woven fabrics are strong and stable. This firm, close construction maintains the straight nature of the yarn.'],\n",
       " 'adire': ['A cotton fabric that has been resist-dyed using indigo. The textile takes on a look similar to batik or shibori fabrics. (read more about Adire fabric)'],\n",
       " 'aloe vera fabric': ['A fabric infused with thousands of aloe vera “capsules.” These capsules are microscopic, airtight and waterproof. They open to release the gel only when the fabric is touched or rubbed. Essentially, every time an infused garment is worn, the aloe is applied to the skin. It is naturally anti-bacterial\\xa0and\\xa0combats body odor. (read more about aloe vera fabric)'],\n",
       " 'bio lycra': ['This new version of Lycra, Bio Lycra, is ideal for sustainable and eco-conscious designers, as the raw material and production process are both much better for the environment. Rather than man-made material, this new fabric is made from sugars derived from corn. (read more about bio lycra)'],\n",
       " 'coolcore': ['A\\xa0performance fabric that wicks away moisture and keeps the wearer cool during strenuous activity. The textile is able to reduce its surface temperature by up to 30 percent.\\xa0While many performance fabrics use added substances such as polymer crystal treatments to aid in their cooling properties, Coolcore is completely chemical-free. (read more about Coolcore)'],\n",
       " 'eco-leather': ['Eco-Leather is made up of either flax or cotton fibers that are then mixed with plant oils such as palm, soybean, or corn. Any material used is sustainable to keep the textile’s carbon footprint low. This mixture is then layered together to create a material with a similar look and feel to leather. (read more about eco-leather)'],\n",
       " 'inego': ['The dextrose (sugar) that is taken from corn is used as fuel for the creation of the polymer this fiber is made up of. The polymer is formed into Ingeo “pellets” that can be used to make a wide range of products, from electronics to apparel.\\xa0The\\xa0fabric is beautiful, soft, and has performance benefits for sportswear. (read more about inego fabric)'],\n",
       " 'kenaf': ['Made from the Kenaf plant, Kenaf textiles are eco-friendly, naturally very absorbent, and even fire-retardant. The hand of the fabric is similar to linen. (read more about Kenaf)'],\n",
       " 'katazome': ['Literally translated as “stencil-dyed”. \\xa0A\\xa0Japanese method of resist dyeing, similar to Rozome,\\xa0Mainly used to create repeat patterns on fabric, it gained popularity in Japan as a simple, inexpensive way to mimic the look of woven brocades. (read more about Katazome)'],\n",
       " 'rozome': ['The Japanese version of the wax-resist process, known elsewhere as batik,\\xa0the method used to paint silk for kimonos. (read more about Rozome)'],\n",
       " 'seacell': ['An eco-friendly fabric made from seaweed. Developed by Nanonic Inc, a small percentage of the plant is mixed with cellulose, putting it in the same family as lyocell. The type of seaweed used, known as brown algae, is certified organic. (read more about SeaCell)'],\n",
       " 'tapa': ['A flexible cloth made from wood. Traditionally made on the island of Tonga, it is created from the bark of the paper mulberry tree. Rather than being knit or woven from a spun thread, the material begins in its original form as a sheet of wood. (read more about Tapa)'],\n",
       " 'xorel': ['An environmentally\\xa0conscious\\xa0alternative to vinyl. It’s woven from polyethylene, is very safe in manufacture, use, and disposal, incredibly durable, and easy to clean. (read more about Xorel)']}"
      ]
     },
     "execution_count": 101,
     "metadata": {},
     "output_type": "execute_result"
    }
   ],
   "source": [
    "dict"
   ]
  },
  {
   "cell_type": "code",
   "execution_count": 105,
   "id": "3b145308",
   "metadata": {},
   "outputs": [],
   "source": [
    "def search(keyword):\n",
    "    search_result = []\n",
    "    for title, descriptions in dict.items():\n",
    "        for description in descriptions:\n",
    "            res = regex.search(keyword.lower(), description.lower())\n",
    "            if res:\n",
    "                search_result.append(title)\n",
    "    return search_result"
   ]
  },
  {
   "cell_type": "code",
   "execution_count": 112,
   "id": "049306f5",
   "metadata": {},
   "outputs": [
    {
     "data": {
      "text/plain": [
       "['elastane',\n",
       " 'italian nylon',\n",
       " 'knit',\n",
       " 'powernet',\n",
       " 'spannette',\n",
       " 'tricot',\n",
       " 'woven',\n",
       " 'power net']"
      ]
     },
     "execution_count": 112,
     "metadata": {},
     "output_type": "execute_result"
    }
   ],
   "source": [
    "search('stretch')"
   ]
  },
  {
   "cell_type": "code",
   "execution_count": null,
   "id": "36aa792e",
   "metadata": {},
   "outputs": [],
   "source": []
  }
 ],
 "metadata": {
  "kernelspec": {
   "display_name": "Python 3 (ipykernel)",
   "language": "python",
   "name": "python3"
  },
  "language_info": {
   "codemirror_mode": {
    "name": "ipython",
    "version": 3
   },
   "file_extension": ".py",
   "mimetype": "text/x-python",
   "name": "python",
   "nbconvert_exporter": "python",
   "pygments_lexer": "ipython3",
   "version": "3.9.7"
  },
  "toc": {
   "base_numbering": 1,
   "nav_menu": {},
   "number_sections": true,
   "sideBar": true,
   "skip_h1_title": false,
   "title_cell": "Table of Contents",
   "title_sidebar": "Contents",
   "toc_cell": false,
   "toc_position": {},
   "toc_section_display": true,
   "toc_window_display": false
  }
 },
 "nbformat": 4,
 "nbformat_minor": 5
}
